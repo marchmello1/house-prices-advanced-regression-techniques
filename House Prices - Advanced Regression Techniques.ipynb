{
 "cells": [
  {
   "cell_type": "code",
   "execution_count": 10,
   "id": "36058442",
   "metadata": {
    "scrolled": true
   },
   "outputs": [],
   "source": [
    "import pandas as pd\n",
    "import numpy as np\n",
    "from sklearn.preprocessing import OneHotEncoder\n",
    "import seaborn as sns\n",
    "import matplotlib.pyplot as plt\n"
   ]
  },
  {
   "cell_type": "code",
   "execution_count": 22,
   "id": "aa8848ae",
   "metadata": {},
   "outputs": [],
   "source": [
    "train_data = pd.read_csv(r'C:\\Users\\mohammad\\Downloads\\train (1).csv')\n",
    "test_data = pd.read_csv(r'C:\\Users\\mohammad\\Downloads\\train (1).csv')"
   ]
  },
  {
   "cell_type": "code",
   "execution_count": 23,
   "id": "d565ad4f",
   "metadata": {},
   "outputs": [
    {
     "name": "stdout",
     "output_type": "stream",
     "text": [
      "num rows in training data: 1460\n",
      "num rows in test data: 1460\n"
     ]
    }
   ],
   "source": [
    "num_rows_train = len(train_data.index)\n",
    "print(\"num rows in training data: \" + str(num_rows_train))\n",
    "print(\"num rows in test data: \" + str(len(test_data.index)))\n",
    "\n",
    "\n",
    "y_train = train_data.iloc[:,-1]\n",
    "train_data.drop(columns=train_data.columns[-1], \n",
    "        axis=1, \n",
    "        inplace=True)"
   ]
  },
  {
   "cell_type": "code",
   "execution_count": 26,
   "id": "92b6373b",
   "metadata": {},
   "outputs": [
    {
     "name": "stdout",
     "output_type": "stream",
     "text": [
      "num rows in all data: 2920\n"
     ]
    },
    {
     "name": "stderr",
     "output_type": "stream",
     "text": [
      "C:\\Users\\mohammad\\AppData\\Local\\Temp\\ipykernel_25120\\2447917108.py:1: FutureWarning: The frame.append method is deprecated and will be removed from pandas in a future version. Use pandas.concat instead.\n",
      "  all_data = train_data.append(test_data, ignore_index=True)\n"
     ]
    }
   ],
   "source": [
    "all_data = train_data.append(test_data, ignore_index=True)\n",
    "print(\"num rows in all data: \" + str(len(all_data.index)))\n",
    "ids = all_data.drop('Id', axis=1)"
   ]
  },
  {
   "cell_type": "code",
   "execution_count": 27,
   "id": "e93470f5",
   "metadata": {},
   "outputs": [
    {
     "data": {
      "text/html": [
       "<div>\n",
       "<style scoped>\n",
       "    .dataframe tbody tr th:only-of-type {\n",
       "        vertical-align: middle;\n",
       "    }\n",
       "\n",
       "    .dataframe tbody tr th {\n",
       "        vertical-align: top;\n",
       "    }\n",
       "\n",
       "    .dataframe thead th {\n",
       "        text-align: right;\n",
       "    }\n",
       "</style>\n",
       "<table border=\"1\" class=\"dataframe\">\n",
       "  <thead>\n",
       "    <tr style=\"text-align: right;\">\n",
       "      <th></th>\n",
       "      <th>Id</th>\n",
       "      <th>MSSubClass</th>\n",
       "      <th>LotFrontage</th>\n",
       "      <th>LotArea</th>\n",
       "      <th>OverallQual</th>\n",
       "      <th>OverallCond</th>\n",
       "      <th>YearBuilt</th>\n",
       "      <th>YearRemodAdd</th>\n",
       "      <th>MasVnrArea</th>\n",
       "      <th>BsmtFinSF1</th>\n",
       "      <th>...</th>\n",
       "      <th>SaleType_ConLw</th>\n",
       "      <th>SaleType_New</th>\n",
       "      <th>SaleType_Oth</th>\n",
       "      <th>SaleType_WD</th>\n",
       "      <th>SaleCondition_Abnorml</th>\n",
       "      <th>SaleCondition_AdjLand</th>\n",
       "      <th>SaleCondition_Alloca</th>\n",
       "      <th>SaleCondition_Family</th>\n",
       "      <th>SaleCondition_Normal</th>\n",
       "      <th>SaleCondition_Partial</th>\n",
       "    </tr>\n",
       "  </thead>\n",
       "  <tbody>\n",
       "    <tr>\n",
       "      <th>0</th>\n",
       "      <td>1</td>\n",
       "      <td>60</td>\n",
       "      <td>65.0</td>\n",
       "      <td>8450</td>\n",
       "      <td>7</td>\n",
       "      <td>5</td>\n",
       "      <td>2003</td>\n",
       "      <td>2003</td>\n",
       "      <td>196.0</td>\n",
       "      <td>706</td>\n",
       "      <td>...</td>\n",
       "      <td>0</td>\n",
       "      <td>0</td>\n",
       "      <td>0</td>\n",
       "      <td>1</td>\n",
       "      <td>0</td>\n",
       "      <td>0</td>\n",
       "      <td>0</td>\n",
       "      <td>0</td>\n",
       "      <td>1</td>\n",
       "      <td>0</td>\n",
       "    </tr>\n",
       "    <tr>\n",
       "      <th>1</th>\n",
       "      <td>2</td>\n",
       "      <td>20</td>\n",
       "      <td>80.0</td>\n",
       "      <td>9600</td>\n",
       "      <td>6</td>\n",
       "      <td>8</td>\n",
       "      <td>1976</td>\n",
       "      <td>1976</td>\n",
       "      <td>0.0</td>\n",
       "      <td>978</td>\n",
       "      <td>...</td>\n",
       "      <td>0</td>\n",
       "      <td>0</td>\n",
       "      <td>0</td>\n",
       "      <td>1</td>\n",
       "      <td>0</td>\n",
       "      <td>0</td>\n",
       "      <td>0</td>\n",
       "      <td>0</td>\n",
       "      <td>1</td>\n",
       "      <td>0</td>\n",
       "    </tr>\n",
       "    <tr>\n",
       "      <th>2</th>\n",
       "      <td>3</td>\n",
       "      <td>60</td>\n",
       "      <td>68.0</td>\n",
       "      <td>11250</td>\n",
       "      <td>7</td>\n",
       "      <td>5</td>\n",
       "      <td>2001</td>\n",
       "      <td>2002</td>\n",
       "      <td>162.0</td>\n",
       "      <td>486</td>\n",
       "      <td>...</td>\n",
       "      <td>0</td>\n",
       "      <td>0</td>\n",
       "      <td>0</td>\n",
       "      <td>1</td>\n",
       "      <td>0</td>\n",
       "      <td>0</td>\n",
       "      <td>0</td>\n",
       "      <td>0</td>\n",
       "      <td>1</td>\n",
       "      <td>0</td>\n",
       "    </tr>\n",
       "    <tr>\n",
       "      <th>3</th>\n",
       "      <td>4</td>\n",
       "      <td>70</td>\n",
       "      <td>60.0</td>\n",
       "      <td>9550</td>\n",
       "      <td>7</td>\n",
       "      <td>5</td>\n",
       "      <td>1915</td>\n",
       "      <td>1970</td>\n",
       "      <td>0.0</td>\n",
       "      <td>216</td>\n",
       "      <td>...</td>\n",
       "      <td>0</td>\n",
       "      <td>0</td>\n",
       "      <td>0</td>\n",
       "      <td>1</td>\n",
       "      <td>1</td>\n",
       "      <td>0</td>\n",
       "      <td>0</td>\n",
       "      <td>0</td>\n",
       "      <td>0</td>\n",
       "      <td>0</td>\n",
       "    </tr>\n",
       "    <tr>\n",
       "      <th>4</th>\n",
       "      <td>5</td>\n",
       "      <td>60</td>\n",
       "      <td>84.0</td>\n",
       "      <td>14260</td>\n",
       "      <td>8</td>\n",
       "      <td>5</td>\n",
       "      <td>2000</td>\n",
       "      <td>2000</td>\n",
       "      <td>350.0</td>\n",
       "      <td>655</td>\n",
       "      <td>...</td>\n",
       "      <td>0</td>\n",
       "      <td>0</td>\n",
       "      <td>0</td>\n",
       "      <td>1</td>\n",
       "      <td>0</td>\n",
       "      <td>0</td>\n",
       "      <td>0</td>\n",
       "      <td>0</td>\n",
       "      <td>1</td>\n",
       "      <td>0</td>\n",
       "    </tr>\n",
       "  </tbody>\n",
       "</table>\n",
       "<p>5 rows × 290 columns</p>\n",
       "</div>"
      ],
      "text/plain": [
       "   Id  MSSubClass  LotFrontage  LotArea  OverallQual  OverallCond  YearBuilt  \\\n",
       "0   1          60         65.0     8450            7            5       2003   \n",
       "1   2          20         80.0     9600            6            8       1976   \n",
       "2   3          60         68.0    11250            7            5       2001   \n",
       "3   4          70         60.0     9550            7            5       1915   \n",
       "4   5          60         84.0    14260            8            5       2000   \n",
       "\n",
       "   YearRemodAdd  MasVnrArea  BsmtFinSF1  ...  SaleType_ConLw  SaleType_New  \\\n",
       "0          2003       196.0         706  ...               0             0   \n",
       "1          1976         0.0         978  ...               0             0   \n",
       "2          2002       162.0         486  ...               0             0   \n",
       "3          1970         0.0         216  ...               0             0   \n",
       "4          2000       350.0         655  ...               0             0   \n",
       "\n",
       "   SaleType_Oth  SaleType_WD  SaleCondition_Abnorml  SaleCondition_AdjLand  \\\n",
       "0             0            1                      0                      0   \n",
       "1             0            1                      0                      0   \n",
       "2             0            1                      0                      0   \n",
       "3             0            1                      1                      0   \n",
       "4             0            1                      0                      0   \n",
       "\n",
       "   SaleCondition_Alloca  SaleCondition_Family  SaleCondition_Normal  \\\n",
       "0                     0                     0                     1   \n",
       "1                     0                     0                     1   \n",
       "2                     0                     0                     1   \n",
       "3                     0                     0                     0   \n",
       "4                     0                     0                     1   \n",
       "\n",
       "   SaleCondition_Partial  \n",
       "0                      0  \n",
       "1                      0  \n",
       "2                      0  \n",
       "3                      0  \n",
       "4                      0  \n",
       "\n",
       "[5 rows x 290 columns]"
      ]
     },
     "execution_count": 27,
     "metadata": {},
     "output_type": "execute_result"
    }
   ],
   "source": [
    "all_data = pd.get_dummies(data=all_data)\n",
    "\n",
    "\n",
    "all_data = all_data.fillna(-1)\n",
    "\n",
    "all_data.head()"
   ]
  },
  {
   "cell_type": "code",
   "execution_count": 28,
   "id": "8408369e",
   "metadata": {},
   "outputs": [
    {
     "name": "stdout",
     "output_type": "stream",
     "text": [
      "num rows in X train: 1460\n",
      "num rows in y train: 1460\n",
      "num rows in X test: 1460\n",
      "Training data features head: \n",
      "   Id  MSSubClass  LotFrontage  LotArea  OverallQual  OverallCond  YearBuilt  \\\n",
      "0   1          60         65.0     8450            7            5       2003   \n",
      "1   2          20         80.0     9600            6            8       1976   \n",
      "2   3          60         68.0    11250            7            5       2001   \n",
      "3   4          70         60.0     9550            7            5       1915   \n",
      "4   5          60         84.0    14260            8            5       2000   \n",
      "\n",
      "   YearRemodAdd  MasVnrArea  BsmtFinSF1  ...  SaleType_ConLw  SaleType_New  \\\n",
      "0          2003       196.0         706  ...               0             0   \n",
      "1          1976         0.0         978  ...               0             0   \n",
      "2          2002       162.0         486  ...               0             0   \n",
      "3          1970         0.0         216  ...               0             0   \n",
      "4          2000       350.0         655  ...               0             0   \n",
      "\n",
      "   SaleType_Oth  SaleType_WD  SaleCondition_Abnorml  SaleCondition_AdjLand  \\\n",
      "0             0            1                      0                      0   \n",
      "1             0            1                      0                      0   \n",
      "2             0            1                      0                      0   \n",
      "3             0            1                      1                      0   \n",
      "4             0            1                      0                      0   \n",
      "\n",
      "   SaleCondition_Alloca  SaleCondition_Family  SaleCondition_Normal  \\\n",
      "0                     0                     0                     1   \n",
      "1                     0                     0                     1   \n",
      "2                     0                     0                     1   \n",
      "3                     0                     0                     0   \n",
      "4                     0                     0                     1   \n",
      "\n",
      "   SaleCondition_Partial  \n",
      "0                      0  \n",
      "1                      0  \n",
      "2                      0  \n",
      "3                      0  \n",
      "4                      0  \n",
      "\n",
      "[5 rows x 290 columns]\n",
      "\n",
      "Training data predictions head: \n",
      "0    208500\n",
      "1    181500\n",
      "2    223500\n",
      "3    140000\n",
      "4    250000\n",
      "Name: SalePrice, dtype: int64\n",
      "\n",
      "Test data features head:\n",
      "      Id  MSSubClass  LotFrontage  LotArea  OverallQual  OverallCond  \\\n",
      "1460   1          60         65.0     8450            7            5   \n",
      "1461   2          20         80.0     9600            6            8   \n",
      "1462   3          60         68.0    11250            7            5   \n",
      "1463   4          70         60.0     9550            7            5   \n",
      "1464   5          60         84.0    14260            8            5   \n",
      "\n",
      "      YearBuilt  YearRemodAdd  MasVnrArea  BsmtFinSF1  ...  SaleType_ConLw  \\\n",
      "1460       2003          2003       196.0         706  ...               0   \n",
      "1461       1976          1976         0.0         978  ...               0   \n",
      "1462       2001          2002       162.0         486  ...               0   \n",
      "1463       1915          1970         0.0         216  ...               0   \n",
      "1464       2000          2000       350.0         655  ...               0   \n",
      "\n",
      "      SaleType_New  SaleType_Oth  SaleType_WD  SaleCondition_Abnorml  \\\n",
      "1460             0             0            1                      0   \n",
      "1461             0             0            1                      0   \n",
      "1462             0             0            1                      0   \n",
      "1463             0             0            1                      1   \n",
      "1464             0             0            1                      0   \n",
      "\n",
      "      SaleCondition_AdjLand  SaleCondition_Alloca  SaleCondition_Family  \\\n",
      "1460                      0                     0                     0   \n",
      "1461                      0                     0                     0   \n",
      "1462                      0                     0                     0   \n",
      "1463                      0                     0                     0   \n",
      "1464                      0                     0                     0   \n",
      "\n",
      "      SaleCondition_Normal  SaleCondition_Partial  \n",
      "1460                     1                      0  \n",
      "1461                     1                      0  \n",
      "1462                     1                      0  \n",
      "1463                     0                      0  \n",
      "1464                     1                      0  \n",
      "\n",
      "[5 rows x 290 columns]\n"
     ]
    }
   ],
   "source": [
    "X_train = all_data.iloc[0:num_rows_train,:]\n",
    "print(\"num rows in X train: \" + str(len(X_train.index)))\n",
    "print(\"num rows in y train: \" + str(len(y_train.index)))\n",
    "X_test = all_data.iloc[num_rows_train:,:]\n",
    "print(\"num rows in X test: \" + str(len(X_test.index)))\n",
    "print(\"Training data features head: \")\n",
    "print(X_train.head())\n",
    "print()\n",
    "print(\"Training data predictions head: \")\n",
    "print(y_train.head())\n",
    "print()\n",
    "print(\"Test data features head:\")\n",
    "print(X_test.head())"
   ]
  },
  {
   "cell_type": "code",
   "execution_count": 30,
   "id": "ff23b574",
   "metadata": {},
   "outputs": [],
   "source": [
    "from sklearn.model_selection import train_test_split\n",
    "from sklearn.preprocessing import StandardScaler\n",
    "from sklearn import linear_model\n",
    "from sklearn.decomposition import PCA\n",
    "import matplotlib.pyplot as plt\n",
    "X_train, X_val, y_train, y_val = train_test_split(X_train, y_train, test_size=0.2, random_state=42)"
   ]
  },
  {
   "cell_type": "code",
   "execution_count": 31,
   "id": "671ffb72",
   "metadata": {},
   "outputs": [],
   "source": [
    "scaler = StandardScaler()\n",
    "scaler.fit(X_train)\n",
    "X_train_std = scaler.transform(X_train)\n",
    "X_val_transf = scaler.transform(X_val)\n",
    "X_test_transf = scaler.transform(X_test)"
   ]
  },
  {
   "cell_type": "code",
   "execution_count": 32,
   "id": "43bceab2",
   "metadata": {},
   "outputs": [],
   "source": [
    "regr = linear_model.LinearRegression()"
   ]
  },
  {
   "cell_type": "code",
   "execution_count": 33,
   "id": "2c9cb07b",
   "metadata": {},
   "outputs": [
    {
     "data": {
      "text/plain": [
       "LinearRegression()"
      ]
     },
     "execution_count": 33,
     "metadata": {},
     "output_type": "execute_result"
    }
   ],
   "source": [
    "regr.fit(X_train, y_train)"
   ]
  },
  {
   "cell_type": "code",
   "execution_count": 34,
   "id": "8033b84e",
   "metadata": {},
   "outputs": [
    {
     "name": "stdout",
     "output_type": "stream",
     "text": [
      "R^2 on training data: 0.9401454003464302\n"
     ]
    }
   ],
   "source": [
    "r2_train = regr.score(X_train,y_train)\n",
    "print(\"R^2 on training data: \" + str(r2_train))"
   ]
  },
  {
   "cell_type": "code",
   "execution_count": 35,
   "id": "d164be08",
   "metadata": {},
   "outputs": [
    {
     "name": "stdout",
     "output_type": "stream",
     "text": [
      "R^2 on validation data: 0.44377267188437886\n"
     ]
    }
   ],
   "source": [
    "r2_validation = regr.score(X_val,y_val)\n",
    "print(\"R^2 on validation data: \" + str(r2_validation))"
   ]
  },
  {
   "cell_type": "code",
   "execution_count": 36,
   "id": "67c96af8",
   "metadata": {},
   "outputs": [
    {
     "name": "stdout",
     "output_type": "stream",
     "text": [
      "Five first predictions: \n",
      "[160536.64307101 343707.37847011  89843.95120922 177402.14668823\n",
      " 320387.72170796]\n",
      "\n"
     ]
    }
   ],
   "source": [
    "pred_val = regr.predict(X_val)\n",
    "print(\"Five first predictions: \")\n",
    "print(pred_val[:5])\n",
    "print()"
   ]
  },
  {
   "cell_type": "code",
   "execution_count": 39,
   "id": "a7bd060e",
   "metadata": {},
   "outputs": [
    {
     "name": "stdout",
     "output_type": "stream",
     "text": [
      "Root Mean Square Error:\n",
      "\n",
      "65318.03006826614\n"
     ]
    }
   ],
   "source": [
    "import math\n",
    "MSE = np.square(np.subtract(y_val,pred_val)).mean()   \n",
    "   \n",
    "rsme = math.sqrt(MSE)  \n",
    "print(\"Root Mean Square Error:\\n\")  \n",
    "print(rsme)"
   ]
  },
  {
   "cell_type": "code",
   "execution_count": 40,
   "id": "fd4967da",
   "metadata": {},
   "outputs": [
    {
     "name": "stdout",
     "output_type": "stream",
     "text": [
      "(1168, 290)\n"
     ]
    }
   ],
   "source": [
    "print(X_train.shape)"
   ]
  },
  {
   "cell_type": "code",
   "execution_count": 41,
   "id": "855a234c",
   "metadata": {},
   "outputs": [],
   "source": [
    "num_components = list(range(1,289))   \n",
    "list_of_pca_models = []\n",
    "X_train_images = []\n",
    "X_val_images = []\n",
    "regression_models = []\n",
    "training_rmse = []\n",
    "validation_rmse = []\n",
    "idx = 0\n",
    "for i in num_components:\n",
    "   \n",
    "    list_of_pca_models.append(PCA(i))\n",
    "    list_of_pca_models[idx].fit(X_train) \n",
    "    \n",
    "    X_train_images.append(list_of_pca_models[idx].transform(X_train))\n",
    "    X_val_images.append(list_of_pca_models[idx].transform(X_val))\n",
    "    \n",
    "    \n",
    "    regression_model = linear_model.LinearRegression()\n",
    "    regression_model.fit(X_train_images[idx], y_train)\n",
    "    regression_models.append(regression_model)\n",
    "    \n",
    "   \n",
    "    predictions_train = regression_model.predict(X_train_images[idx])\n",
    "    predictions_val = regression_model.predict(X_val_images[idx])\n",
    "    \n",
    " \n",
    "    rmse_training = math.sqrt(np.square(np.subtract(predictions_train,y_train)).mean())\n",
    "    training_rmse.append(rmse_training)\n",
    "    rmse_validation =  math.sqrt(np.square(np.subtract(predictions_val,y_val)).mean()) \n",
    "    validation_rmse.append(rmse_validation)\n",
    "    \n",
    "    idx += 1"
   ]
  },
  {
   "cell_type": "code",
   "execution_count": 42,
   "id": "9a18e351",
   "metadata": {},
   "outputs": [],
   "source": [
    "X_test_img = list_of_pca_models[19].transform(X_test)\n"
   ]
  },
  {
   "cell_type": "code",
   "execution_count": 43,
   "id": "731cea2c",
   "metadata": {},
   "outputs": [
    {
     "name": "stdout",
     "output_type": "stream",
     "text": [
      "First five predictions for test dataset: \n",
      "[203125.30454749 185692.86219243 211569.04799315 168665.19261642\n",
      " 286222.70351035]\n",
      "\n"
     ]
    }
   ],
   "source": [
    "pred_test = regression_models[19].predict(X_test_img)\n",
    "print(\"First five predictions for test dataset: \")\n",
    "print(pred_test[:5])\n",
    "print()"
   ]
  },
  {
   "cell_type": "code",
   "execution_count": null,
   "id": "53e6c00f",
   "metadata": {},
   "outputs": [],
   "source": []
  }
 ],
 "metadata": {
  "kernelspec": {
   "display_name": "Python 3 (ipykernel)",
   "language": "python",
   "name": "python3"
  },
  "language_info": {
   "codemirror_mode": {
    "name": "ipython",
    "version": 3
   },
   "file_extension": ".py",
   "mimetype": "text/x-python",
   "name": "python",
   "nbconvert_exporter": "python",
   "pygments_lexer": "ipython3",
   "version": "3.9.12"
  }
 },
 "nbformat": 4,
 "nbformat_minor": 5
}
